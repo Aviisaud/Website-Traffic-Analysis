{
 "cells": [
  {
   "cell_type": "markdown",
   "id": "2b6c9432",
   "metadata": {},
   "source": [
    "## Data Project from Linkfire"
   ]
  },
  {
   "cell_type": "markdown",
   "id": "091e2a3e",
   "metadata": {},
   "source": [
    "The data set provided (traffic.csv) contains web traffic data (\"events\") from a few different pages (\"links\") over a period of 7 days including various categorical dimensions about the geographic origin of that traffic as well as a page's content: isrc.\n",
    "\n",
    "Our goal is to understand this traffic better, in particular the volume and distribution of events, and to develop ideas on how to increase the links' click rates. With that in mind, please analyze the data using the Python libraries Pandas and SciPy where indicated, providing answers to the presented questions."
   ]
  },
  {
   "cell_type": "markdown",
   "id": "a0ed9d55",
   "metadata": {},
   "source": [
    "### Exploratory Data Analysis\n",
    "Before we begin to answer the questions, we are going to perform some preliminary analyses to get more familiar with the data. We will start by loading the required libraries. We'll use Pandas to create and analyse the data set and we will use Scipy to calculate some statistics. For some mathematical operations, the Numpy library may come in handy, as it is the most popular library in Python for linear algebra and various mathematical operations."
   ]
  },
  {
   "cell_type": "code",
   "execution_count": 110,
   "id": "7581584d",
   "metadata": {},
   "outputs": [],
   "source": [
    "# import libraries\n",
    "import pandas as pd\n",
    "import numpy as np\n",
    "import matplotlib.pyplot as plt\n",
    "import seaborn as sns\n",
    "\n",
    "from scipy import stats"
   ]
  },
  {
   "cell_type": "markdown",
   "id": "fc8fa076",
   "metadata": {},
   "source": [
    "We can use Pandas' read_csv() method to load the CSV data set into a Pandas Dataframe object.\n",
    "\n"
   ]
  },
  {
   "cell_type": "code",
   "execution_count": 2,
   "id": "e2a03af4",
   "metadata": {},
   "outputs": [
    {
     "data": {
      "text/html": [
       "<div>\n",
       "<style scoped>\n",
       "    .dataframe tbody tr th:only-of-type {\n",
       "        vertical-align: middle;\n",
       "    }\n",
       "\n",
       "    .dataframe tbody tr th {\n",
       "        vertical-align: top;\n",
       "    }\n",
       "\n",
       "    .dataframe thead th {\n",
       "        text-align: right;\n",
       "    }\n",
       "</style>\n",
       "<table border=\"1\" class=\"dataframe\">\n",
       "  <thead>\n",
       "    <tr style=\"text-align: right;\">\n",
       "      <th></th>\n",
       "      <th>event</th>\n",
       "      <th>date</th>\n",
       "      <th>country</th>\n",
       "      <th>city</th>\n",
       "      <th>artist</th>\n",
       "      <th>album</th>\n",
       "      <th>track</th>\n",
       "      <th>isrc</th>\n",
       "      <th>linkid</th>\n",
       "    </tr>\n",
       "  </thead>\n",
       "  <tbody>\n",
       "    <tr>\n",
       "      <th>0</th>\n",
       "      <td>click</td>\n",
       "      <td>2021-08-21</td>\n",
       "      <td>Saudi Arabia</td>\n",
       "      <td>Jeddah</td>\n",
       "      <td>Tesher</td>\n",
       "      <td>Jalebi Baby</td>\n",
       "      <td>Jalebi Baby</td>\n",
       "      <td>QZNWQ2070741</td>\n",
       "      <td>2d896d31-97b6-4869-967b-1c5fb9cd4bb8</td>\n",
       "    </tr>\n",
       "    <tr>\n",
       "      <th>1</th>\n",
       "      <td>click</td>\n",
       "      <td>2021-08-21</td>\n",
       "      <td>Saudi Arabia</td>\n",
       "      <td>Jeddah</td>\n",
       "      <td>Tesher</td>\n",
       "      <td>Jalebi Baby</td>\n",
       "      <td>Jalebi Baby</td>\n",
       "      <td>QZNWQ2070741</td>\n",
       "      <td>2d896d31-97b6-4869-967b-1c5fb9cd4bb8</td>\n",
       "    </tr>\n",
       "    <tr>\n",
       "      <th>2</th>\n",
       "      <td>click</td>\n",
       "      <td>2021-08-21</td>\n",
       "      <td>India</td>\n",
       "      <td>Ludhiana</td>\n",
       "      <td>Reyanna Maria</td>\n",
       "      <td>So Pretty</td>\n",
       "      <td>So Pretty</td>\n",
       "      <td>USUM72100871</td>\n",
       "      <td>23199824-9cf5-4b98-942a-34965c3b0cc2</td>\n",
       "    </tr>\n",
       "    <tr>\n",
       "      <th>3</th>\n",
       "      <td>click</td>\n",
       "      <td>2021-08-21</td>\n",
       "      <td>France</td>\n",
       "      <td>Unknown</td>\n",
       "      <td>Simone &amp; Simaria, Sebastian Yatra</td>\n",
       "      <td>No Llores Más</td>\n",
       "      <td>No Llores Más</td>\n",
       "      <td>BRUM72003904</td>\n",
       "      <td>35573248-4e49-47c7-af80-08a960fa74cd</td>\n",
       "    </tr>\n",
       "    <tr>\n",
       "      <th>4</th>\n",
       "      <td>click</td>\n",
       "      <td>2021-08-21</td>\n",
       "      <td>Maldives</td>\n",
       "      <td>Malé</td>\n",
       "      <td>Tesher</td>\n",
       "      <td>Jalebi Baby</td>\n",
       "      <td>Jalebi Baby</td>\n",
       "      <td>QZNWQ2070741</td>\n",
       "      <td>2d896d31-97b6-4869-967b-1c5fb9cd4bb8</td>\n",
       "    </tr>\n",
       "  </tbody>\n",
       "</table>\n",
       "</div>"
      ],
      "text/plain": [
       "   event        date       country      city  \\\n",
       "0  click  2021-08-21  Saudi Arabia    Jeddah   \n",
       "1  click  2021-08-21  Saudi Arabia    Jeddah   \n",
       "2  click  2021-08-21         India  Ludhiana   \n",
       "3  click  2021-08-21        France   Unknown   \n",
       "4  click  2021-08-21      Maldives      Malé   \n",
       "\n",
       "                              artist          album          track  \\\n",
       "0                             Tesher    Jalebi Baby    Jalebi Baby   \n",
       "1                             Tesher    Jalebi Baby    Jalebi Baby   \n",
       "2                      Reyanna Maria      So Pretty      So Pretty   \n",
       "3  Simone & Simaria, Sebastian Yatra  No Llores Más  No Llores Más   \n",
       "4                             Tesher    Jalebi Baby    Jalebi Baby   \n",
       "\n",
       "           isrc                                linkid  \n",
       "0  QZNWQ2070741  2d896d31-97b6-4869-967b-1c5fb9cd4bb8  \n",
       "1  QZNWQ2070741  2d896d31-97b6-4869-967b-1c5fb9cd4bb8  \n",
       "2  USUM72100871  23199824-9cf5-4b98-942a-34965c3b0cc2  \n",
       "3  BRUM72003904  35573248-4e49-47c7-af80-08a960fa74cd  \n",
       "4  QZNWQ2070741  2d896d31-97b6-4869-967b-1c5fb9cd4bb8  "
      ]
     },
     "execution_count": 2,
     "metadata": {},
     "output_type": "execute_result"
    }
   ],
   "source": [
    "df = pd.read_csv(r'D:\\Data set\\traffic.csv')\n",
    "\n",
    "# printing the first five rows\n",
    "df.head()"
   ]
  },
  {
   "cell_type": "code",
   "execution_count": 3,
   "id": "4c679d4c",
   "metadata": {},
   "outputs": [
    {
     "data": {
      "text/plain": [
       "(226278, 9)"
      ]
     },
     "execution_count": 3,
     "metadata": {},
     "output_type": "execute_result"
    }
   ],
   "source": [
    "# (#rows, #columns)\n",
    "df.shape"
   ]
  },
  {
   "cell_type": "markdown",
   "id": "829d2cd3",
   "metadata": {},
   "source": [
    "We use the describe() method to print some descriptive statistics about each column. We can observe the number of non-null values in the count row, then the number of unique values, followed by the most frequent value and its count. Because all of our columns are of type object, as we can see in the output of the info() method in the next cell below, the descriptive statistics provide a summary that is relevant to a categorical attribute. If, for example, we were to have a numerical column, the describe() method would output different properties, like mean, max, min value, etc."
   ]
  },
  {
   "cell_type": "code",
   "execution_count": 4,
   "id": "8568936e",
   "metadata": {},
   "outputs": [
    {
     "data": {
      "text/html": [
       "<div>\n",
       "<style scoped>\n",
       "    .dataframe tbody tr th:only-of-type {\n",
       "        vertical-align: middle;\n",
       "    }\n",
       "\n",
       "    .dataframe tbody tr th {\n",
       "        vertical-align: top;\n",
       "    }\n",
       "\n",
       "    .dataframe thead th {\n",
       "        text-align: right;\n",
       "    }\n",
       "</style>\n",
       "<table border=\"1\" class=\"dataframe\">\n",
       "  <thead>\n",
       "    <tr style=\"text-align: right;\">\n",
       "      <th></th>\n",
       "      <th>event</th>\n",
       "      <th>date</th>\n",
       "      <th>country</th>\n",
       "      <th>city</th>\n",
       "      <th>artist</th>\n",
       "      <th>album</th>\n",
       "      <th>track</th>\n",
       "      <th>isrc</th>\n",
       "      <th>linkid</th>\n",
       "    </tr>\n",
       "  </thead>\n",
       "  <tbody>\n",
       "    <tr>\n",
       "      <th>count</th>\n",
       "      <td>226278</td>\n",
       "      <td>226278</td>\n",
       "      <td>226267</td>\n",
       "      <td>226267</td>\n",
       "      <td>226241</td>\n",
       "      <td>226273</td>\n",
       "      <td>226273</td>\n",
       "      <td>219157</td>\n",
       "      <td>226278</td>\n",
       "    </tr>\n",
       "    <tr>\n",
       "      <th>unique</th>\n",
       "      <td>3</td>\n",
       "      <td>7</td>\n",
       "      <td>211</td>\n",
       "      <td>11993</td>\n",
       "      <td>2419</td>\n",
       "      <td>3254</td>\n",
       "      <td>3562</td>\n",
       "      <td>709</td>\n",
       "      <td>3839</td>\n",
       "    </tr>\n",
       "    <tr>\n",
       "      <th>top</th>\n",
       "      <td>pageview</td>\n",
       "      <td>2021-08-19</td>\n",
       "      <td>Saudi Arabia</td>\n",
       "      <td>Jeddah</td>\n",
       "      <td>Tesher</td>\n",
       "      <td>Jalebi Baby</td>\n",
       "      <td>Jalebi Baby</td>\n",
       "      <td>QZNWQ2070741</td>\n",
       "      <td>2d896d31-97b6-4869-967b-1c5fb9cd4bb8</td>\n",
       "    </tr>\n",
       "    <tr>\n",
       "      <th>freq</th>\n",
       "      <td>142015</td>\n",
       "      <td>35361</td>\n",
       "      <td>47334</td>\n",
       "      <td>22791</td>\n",
       "      <td>40841</td>\n",
       "      <td>40841</td>\n",
       "      <td>40841</td>\n",
       "      <td>40841</td>\n",
       "      <td>40841</td>\n",
       "    </tr>\n",
       "  </tbody>\n",
       "</table>\n",
       "</div>"
      ],
      "text/plain": [
       "           event        date       country    city  artist        album  \\\n",
       "count     226278      226278        226267  226267  226241       226273   \n",
       "unique         3           7           211   11993    2419         3254   \n",
       "top     pageview  2021-08-19  Saudi Arabia  Jeddah  Tesher  Jalebi Baby   \n",
       "freq      142015       35361         47334   22791   40841        40841   \n",
       "\n",
       "              track          isrc                                linkid  \n",
       "count        226273        219157                                226278  \n",
       "unique         3562           709                                  3839  \n",
       "top     Jalebi Baby  QZNWQ2070741  2d896d31-97b6-4869-967b-1c5fb9cd4bb8  \n",
       "freq          40841         40841                                 40841  "
      ]
     },
     "execution_count": 4,
     "metadata": {},
     "output_type": "execute_result"
    }
   ],
   "source": [
    "# print descriptive statistics about each column\n",
    "df.describe()"
   ]
  },
  {
   "cell_type": "code",
   "execution_count": 5,
   "id": "13d617d4",
   "metadata": {},
   "outputs": [
    {
     "name": "stdout",
     "output_type": "stream",
     "text": [
      "<class 'pandas.core.frame.DataFrame'>\n",
      "RangeIndex: 226278 entries, 0 to 226277\n",
      "Data columns (total 9 columns):\n",
      " #   Column   Non-Null Count   Dtype \n",
      "---  ------   --------------   ----- \n",
      " 0   event    226278 non-null  object\n",
      " 1   date     226278 non-null  object\n",
      " 2   country  226267 non-null  object\n",
      " 3   city     226267 non-null  object\n",
      " 4   artist   226241 non-null  object\n",
      " 5   album    226273 non-null  object\n",
      " 6   track    226273 non-null  object\n",
      " 7   isrc     219157 non-null  object\n",
      " 8   linkid   226278 non-null  object\n",
      "dtypes: object(9)\n",
      "memory usage: 15.5+ MB\n"
     ]
    }
   ],
   "source": [
    "df.info()"
   ]
  },
  {
   "cell_type": "markdown",
   "id": "47adc0a3",
   "metadata": {},
   "source": [
    "### Question 1\n",
    "#### How many total pageview events did the links in the provided dataset receive in the full period, how many per day?"
   ]
  },
  {
   "cell_type": "markdown",
   "id": "ee096681",
   "metadata": {},
   "source": [
    "In the preliminary analysis, we observed that the pageview event is the most frequent event in the data and that there are 3 types of events in the data."
   ]
  },
  {
   "cell_type": "code",
   "execution_count": 6,
   "id": "93049227",
   "metadata": {},
   "outputs": [
    {
     "data": {
      "text/plain": [
       "pageview    142015\n",
       "click        55732\n",
       "preview      28531\n",
       "Name: event, dtype: int64"
      ]
     },
     "execution_count": 6,
     "metadata": {},
     "output_type": "execute_result"
    }
   ],
   "source": [
    "# the data set records three types of events: pageview, click, preview\n",
    "\n",
    "df['event'].value_counts()"
   ]
  },
  {
   "cell_type": "code",
   "execution_count": 7,
   "id": "ce485176",
   "metadata": {},
   "outputs": [
    {
     "data": {
      "text/plain": [
       "date\n",
       "2021-08-19    22366\n",
       "2021-08-20    21382\n",
       "2021-08-21    21349\n",
       "2021-08-22    20430\n",
       "2021-08-23    18646\n",
       "2021-08-24    18693\n",
       "2021-08-25    19149\n",
       "Name: event, dtype: int64"
      ]
     },
     "execution_count": 7,
     "metadata": {},
     "output_type": "execute_result"
    }
   ],
   "source": [
    "df[df['event'] == 'pageview'].groupby('date')['event'].count()"
   ]
  },
  {
   "cell_type": "code",
   "execution_count": 12,
   "id": "971b348f",
   "metadata": {},
   "outputs": [
    {
     "data": {
      "text/plain": [
       "pageview    73360\n",
       "click       32499\n",
       "preview     16708\n",
       "Name: event, dtype: int64"
      ]
     },
     "execution_count": 12,
     "metadata": {},
     "output_type": "execute_result"
    }
   ],
   "source": [
    "df_dup = df.drop_duplicates()\n",
    "df_dup['event'].value_counts()"
   ]
  },
  {
   "cell_type": "markdown",
   "id": "e800c92b",
   "metadata": {},
   "source": [
    "Please note that we allow for duplicates in the data, i.e., if the same user views the same page multiple times, it will be counted each time. We can use df.drop_duplicates() to modify this behaviour and see the difference. The following cells illustrate the difference in the data caused after deduplicating: the number of events lowers by nearly half."
   ]
  },
  {
   "cell_type": "code",
   "execution_count": 13,
   "id": "68b4d5a9",
   "metadata": {},
   "outputs": [
    {
     "data": {
      "text/plain": [
       "date\n",
       "2021-08-19    13006\n",
       "2021-08-20    11088\n",
       "2021-08-21     9939\n",
       "2021-08-22     9982\n",
       "2021-08-23     9722\n",
       "2021-08-24     9705\n",
       "2021-08-25     9918\n",
       "Name: event, dtype: int64"
      ]
     },
     "execution_count": 13,
     "metadata": {},
     "output_type": "execute_result"
    }
   ],
   "source": [
    "df_dup[df_dup['event'] == 'pageview'].groupby('date')['event'].count()"
   ]
  },
  {
   "cell_type": "markdown",
   "id": "e4b3c985",
   "metadata": {},
   "source": [
    "### Question 2\n",
    "#### What about the other recorded events?"
   ]
  },
  {
   "cell_type": "code",
   "execution_count": 38,
   "id": "bb07e2ca",
   "metadata": {},
   "outputs": [],
   "source": [
    "# get the set of recorded events in the data\n",
    "recorded_events = set(df['event'].unique())"
   ]
  },
  {
   "cell_type": "markdown",
   "id": "d51fea2f",
   "metadata": {},
   "source": [
    "Even though we know that there are only two other recorded events in our data, namely click and preview, instead of hard-coding them in our solution, we are going to apply some set operations to provide a better approach that would generalize to other events as well. Data is constantly changing in the real world, and if were to add (or even remove) an event from our data set the following solution would still work.\n",
    "\n",
    "In the first line in the cell below we obtain the set of all unique events in the data. Then, we remove the pageview event because it was already analysed in the previous question. We will deal with whatever events remain."
   ]
  },
  {
   "cell_type": "code",
   "execution_count": 40,
   "id": "b53af4b1",
   "metadata": {},
   "outputs": [
    {
     "name": "stdout",
     "output_type": "stream",
     "text": [
      "{'preview', 'click'}\n"
     ]
    }
   ],
   "source": [
    "# remove 'pageview' event\n",
    "recorded_events.remove('pageview')\n",
    "print(recorded_events)"
   ]
  },
  {
   "cell_type": "code",
   "execution_count": 62,
   "id": "2e52efa5",
   "metadata": {},
   "outputs": [
    {
     "name": "stdout",
     "output_type": "stream",
     "text": [
      "Total no. of preview events is total_events \n",
      "\n",
      "preview event distributed per day:\n",
      "\n",
      "date\n",
      "2021-08-19    3788\n",
      "2021-08-20    4222\n",
      "2021-08-21    4663\n",
      "2021-08-22    4349\n",
      "2021-08-23    3847\n",
      "2021-08-24    3840\n",
      "2021-08-25    3822\n",
      "Name: event, dtype: int64 \n",
      "\n",
      "Total no. of click events is total_events \n",
      "\n",
      "click event distributed per day:\n",
      "\n",
      "date\n",
      "2021-08-19    9207\n",
      "2021-08-20    8508\n",
      "2021-08-21    8071\n",
      "2021-08-22    7854\n",
      "2021-08-23    7315\n",
      "2021-08-24    7301\n",
      "2021-08-25    7476\n",
      "Name: event, dtype: int64 \n",
      "\n"
     ]
    }
   ],
   "source": [
    "# loop over each event\n",
    "for events in recorded_events:\n",
    "    # get the total number of occurrences\n",
    "    total_events = df[df['event'] == events].shape[0]\n",
    "    print(f'Total no. of {events} events is total_events \\n')\n",
    "    # group by the date and aggregate by count\n",
    "    data = df[df['event'] == events].groupby('date')['event'].count()\n",
    "    print(f'{events} event distributed per day:\\n')\n",
    "    print(f'{data} \\n')"
   ]
  },
  {
   "cell_type": "markdown",
   "id": "eabfb684",
   "metadata": {},
   "source": [
    "### Question 3\n",
    "#### Which countries did the clicks come from?"
   ]
  },
  {
   "cell_type": "markdown",
   "id": "abfbe0b4",
   "metadata": {},
   "source": [
    "* We need to filter for the click events only.\n",
    "* We can print the unique values of the Country column (ignoring any nans)"
   ]
  },
  {
   "cell_type": "code",
   "execution_count": 63,
   "id": "f13f42a4",
   "metadata": {},
   "outputs": [
    {
     "data": {
      "text/plain": [
       "Index(['event', 'date', 'country', 'city', 'artist', 'album', 'track', 'isrc',\n",
       "       'linkid'],\n",
       "      dtype='object')"
      ]
     },
     "execution_count": 63,
     "metadata": {},
     "output_type": "execute_result"
    }
   ],
   "source": [
    "df.columns"
   ]
  },
  {
   "cell_type": "code",
   "execution_count": 68,
   "id": "248ed321",
   "metadata": {},
   "outputs": [
    {
     "data": {
      "text/html": [
       "<div>\n",
       "<style scoped>\n",
       "    .dataframe tbody tr th:only-of-type {\n",
       "        vertical-align: middle;\n",
       "    }\n",
       "\n",
       "    .dataframe tbody tr th {\n",
       "        vertical-align: top;\n",
       "    }\n",
       "\n",
       "    .dataframe thead th {\n",
       "        text-align: right;\n",
       "    }\n",
       "</style>\n",
       "<table border=\"1\" class=\"dataframe\">\n",
       "  <thead>\n",
       "    <tr style=\"text-align: right;\">\n",
       "      <th></th>\n",
       "      <th>event</th>\n",
       "      <th>date</th>\n",
       "      <th>country</th>\n",
       "      <th>city</th>\n",
       "      <th>artist</th>\n",
       "      <th>album</th>\n",
       "      <th>track</th>\n",
       "      <th>isrc</th>\n",
       "      <th>linkid</th>\n",
       "    </tr>\n",
       "  </thead>\n",
       "  <tbody>\n",
       "    <tr>\n",
       "      <th>0</th>\n",
       "      <td>click</td>\n",
       "      <td>2021-08-21</td>\n",
       "      <td>Saudi Arabia</td>\n",
       "      <td>Jeddah</td>\n",
       "      <td>Tesher</td>\n",
       "      <td>Jalebi Baby</td>\n",
       "      <td>Jalebi Baby</td>\n",
       "      <td>QZNWQ2070741</td>\n",
       "      <td>2d896d31-97b6-4869-967b-1c5fb9cd4bb8</td>\n",
       "    </tr>\n",
       "    <tr>\n",
       "      <th>1</th>\n",
       "      <td>click</td>\n",
       "      <td>2021-08-21</td>\n",
       "      <td>Saudi Arabia</td>\n",
       "      <td>Jeddah</td>\n",
       "      <td>Tesher</td>\n",
       "      <td>Jalebi Baby</td>\n",
       "      <td>Jalebi Baby</td>\n",
       "      <td>QZNWQ2070741</td>\n",
       "      <td>2d896d31-97b6-4869-967b-1c5fb9cd4bb8</td>\n",
       "    </tr>\n",
       "    <tr>\n",
       "      <th>2</th>\n",
       "      <td>click</td>\n",
       "      <td>2021-08-21</td>\n",
       "      <td>India</td>\n",
       "      <td>Ludhiana</td>\n",
       "      <td>Reyanna Maria</td>\n",
       "      <td>So Pretty</td>\n",
       "      <td>So Pretty</td>\n",
       "      <td>USUM72100871</td>\n",
       "      <td>23199824-9cf5-4b98-942a-34965c3b0cc2</td>\n",
       "    </tr>\n",
       "    <tr>\n",
       "      <th>3</th>\n",
       "      <td>click</td>\n",
       "      <td>2021-08-21</td>\n",
       "      <td>France</td>\n",
       "      <td>Unknown</td>\n",
       "      <td>Simone &amp; Simaria, Sebastian Yatra</td>\n",
       "      <td>No Llores Más</td>\n",
       "      <td>No Llores Más</td>\n",
       "      <td>BRUM72003904</td>\n",
       "      <td>35573248-4e49-47c7-af80-08a960fa74cd</td>\n",
       "    </tr>\n",
       "    <tr>\n",
       "      <th>4</th>\n",
       "      <td>click</td>\n",
       "      <td>2021-08-21</td>\n",
       "      <td>Maldives</td>\n",
       "      <td>Malé</td>\n",
       "      <td>Tesher</td>\n",
       "      <td>Jalebi Baby</td>\n",
       "      <td>Jalebi Baby</td>\n",
       "      <td>QZNWQ2070741</td>\n",
       "      <td>2d896d31-97b6-4869-967b-1c5fb9cd4bb8</td>\n",
       "    </tr>\n",
       "    <tr>\n",
       "      <th>...</th>\n",
       "      <td>...</td>\n",
       "      <td>...</td>\n",
       "      <td>...</td>\n",
       "      <td>...</td>\n",
       "      <td>...</td>\n",
       "      <td>...</td>\n",
       "      <td>...</td>\n",
       "      <td>...</td>\n",
       "      <td>...</td>\n",
       "    </tr>\n",
       "    <tr>\n",
       "      <th>83807</th>\n",
       "      <td>click</td>\n",
       "      <td>2021-08-20</td>\n",
       "      <td>Saudi Arabia</td>\n",
       "      <td>Riyadh</td>\n",
       "      <td>Anne-Marie</td>\n",
       "      <td>Beautiful</td>\n",
       "      <td>Beautiful</td>\n",
       "      <td>GBAHS2100225</td>\n",
       "      <td>522da5cc-8177-4140-97a7-a84fdb4caf1c</td>\n",
       "    </tr>\n",
       "    <tr>\n",
       "      <th>83808</th>\n",
       "      <td>click</td>\n",
       "      <td>2021-08-20</td>\n",
       "      <td>United States</td>\n",
       "      <td>Atlanta</td>\n",
       "      <td>Lil Durk</td>\n",
       "      <td>Signed to the Streets 25</td>\n",
       "      <td>India</td>\n",
       "      <td>USUYG1164683</td>\n",
       "      <td>af483035-a62c-485c-8e98-257f35e23b4d</td>\n",
       "    </tr>\n",
       "    <tr>\n",
       "      <th>83809</th>\n",
       "      <td>click</td>\n",
       "      <td>2021-08-20</td>\n",
       "      <td>Bahrain</td>\n",
       "      <td>Unknown</td>\n",
       "      <td>Tundra Beats</td>\n",
       "      <td>Beautiful Day</td>\n",
       "      <td>Beautiful Day</td>\n",
       "      <td>QZHN92194591</td>\n",
       "      <td>e849515b-929d-44c8-a505-e7622f1827e9</td>\n",
       "    </tr>\n",
       "    <tr>\n",
       "      <th>83810</th>\n",
       "      <td>click</td>\n",
       "      <td>2021-08-20</td>\n",
       "      <td>Germany</td>\n",
       "      <td>Wehr</td>\n",
       "      <td>Hoàng Read</td>\n",
       "      <td>The Magic Bomb</td>\n",
       "      <td>The Magic Bomb - Extended Mix</td>\n",
       "      <td>FR59R2143389</td>\n",
       "      <td>8f990f44-6a5d-4294-ab0b-f74e0a8f3b25</td>\n",
       "    </tr>\n",
       "    <tr>\n",
       "      <th>83811</th>\n",
       "      <td>click</td>\n",
       "      <td>2021-08-20</td>\n",
       "      <td>Italy</td>\n",
       "      <td>Rome</td>\n",
       "      <td>Soldier Kidd</td>\n",
       "      <td>Like Dat (Motion)</td>\n",
       "      <td>Like Dat (Motion)</td>\n",
       "      <td>QZAKB2130880</td>\n",
       "      <td>275bab3b-16d4-40a7-a674-bf6c7c5f96de</td>\n",
       "    </tr>\n",
       "  </tbody>\n",
       "</table>\n",
       "<p>55732 rows × 9 columns</p>\n",
       "</div>"
      ],
      "text/plain": [
       "       event        date        country      city  \\\n",
       "0      click  2021-08-21   Saudi Arabia    Jeddah   \n",
       "1      click  2021-08-21   Saudi Arabia    Jeddah   \n",
       "2      click  2021-08-21          India  Ludhiana   \n",
       "3      click  2021-08-21         France   Unknown   \n",
       "4      click  2021-08-21       Maldives      Malé   \n",
       "...      ...         ...            ...       ...   \n",
       "83807  click  2021-08-20   Saudi Arabia    Riyadh   \n",
       "83808  click  2021-08-20  United States   Atlanta   \n",
       "83809  click  2021-08-20        Bahrain   Unknown   \n",
       "83810  click  2021-08-20        Germany      Wehr   \n",
       "83811  click  2021-08-20          Italy      Rome   \n",
       "\n",
       "                                  artist                     album  \\\n",
       "0                                 Tesher               Jalebi Baby   \n",
       "1                                 Tesher               Jalebi Baby   \n",
       "2                          Reyanna Maria                 So Pretty   \n",
       "3      Simone & Simaria, Sebastian Yatra             No Llores Más   \n",
       "4                                 Tesher               Jalebi Baby   \n",
       "...                                  ...                       ...   \n",
       "83807                         Anne-Marie                 Beautiful   \n",
       "83808                           Lil Durk  Signed to the Streets 25   \n",
       "83809                       Tundra Beats             Beautiful Day   \n",
       "83810                         Hoàng Read            The Magic Bomb   \n",
       "83811                       Soldier Kidd         Like Dat (Motion)   \n",
       "\n",
       "                               track          isrc  \\\n",
       "0                        Jalebi Baby  QZNWQ2070741   \n",
       "1                        Jalebi Baby  QZNWQ2070741   \n",
       "2                          So Pretty  USUM72100871   \n",
       "3                      No Llores Más  BRUM72003904   \n",
       "4                        Jalebi Baby  QZNWQ2070741   \n",
       "...                              ...           ...   \n",
       "83807                      Beautiful  GBAHS2100225   \n",
       "83808                          India  USUYG1164683   \n",
       "83809                  Beautiful Day  QZHN92194591   \n",
       "83810  The Magic Bomb - Extended Mix  FR59R2143389   \n",
       "83811              Like Dat (Motion)  QZAKB2130880   \n",
       "\n",
       "                                     linkid  \n",
       "0      2d896d31-97b6-4869-967b-1c5fb9cd4bb8  \n",
       "1      2d896d31-97b6-4869-967b-1c5fb9cd4bb8  \n",
       "2      23199824-9cf5-4b98-942a-34965c3b0cc2  \n",
       "3      35573248-4e49-47c7-af80-08a960fa74cd  \n",
       "4      2d896d31-97b6-4869-967b-1c5fb9cd4bb8  \n",
       "...                                     ...  \n",
       "83807  522da5cc-8177-4140-97a7-a84fdb4caf1c  \n",
       "83808  af483035-a62c-485c-8e98-257f35e23b4d  \n",
       "83809  e849515b-929d-44c8-a505-e7622f1827e9  \n",
       "83810  8f990f44-6a5d-4294-ab0b-f74e0a8f3b25  \n",
       "83811  275bab3b-16d4-40a7-a674-bf6c7c5f96de  \n",
       "\n",
       "[55732 rows x 9 columns]"
      ]
     },
     "execution_count": 68,
     "metadata": {},
     "output_type": "execute_result"
    }
   ],
   "source": [
    "# filter for the proper event\n",
    "df_click = df[df['event'] == 'click']\n",
    "df_click"
   ]
  },
  {
   "cell_type": "code",
   "execution_count": 71,
   "id": "16383384",
   "metadata": {},
   "outputs": [
    {
     "data": {
      "text/html": [
       "<div>\n",
       "<style scoped>\n",
       "    .dataframe tbody tr th:only-of-type {\n",
       "        vertical-align: middle;\n",
       "    }\n",
       "\n",
       "    .dataframe tbody tr th {\n",
       "        vertical-align: top;\n",
       "    }\n",
       "\n",
       "    .dataframe thead th {\n",
       "        text-align: right;\n",
       "    }\n",
       "</style>\n",
       "<table border=\"1\" class=\"dataframe\">\n",
       "  <thead>\n",
       "    <tr style=\"text-align: right;\">\n",
       "      <th></th>\n",
       "      <th>Country</th>\n",
       "    </tr>\n",
       "  </thead>\n",
       "  <tbody>\n",
       "    <tr>\n",
       "      <th>0</th>\n",
       "      <td>Saudi Arabia</td>\n",
       "    </tr>\n",
       "    <tr>\n",
       "      <th>1</th>\n",
       "      <td>India</td>\n",
       "    </tr>\n",
       "    <tr>\n",
       "      <th>2</th>\n",
       "      <td>France</td>\n",
       "    </tr>\n",
       "    <tr>\n",
       "      <th>3</th>\n",
       "      <td>Maldives</td>\n",
       "    </tr>\n",
       "    <tr>\n",
       "      <th>4</th>\n",
       "      <td>United States</td>\n",
       "    </tr>\n",
       "    <tr>\n",
       "      <th>...</th>\n",
       "      <td>...</td>\n",
       "    </tr>\n",
       "    <tr>\n",
       "      <th>197</th>\n",
       "      <td>Guernsey</td>\n",
       "    </tr>\n",
       "    <tr>\n",
       "      <th>198</th>\n",
       "      <td>Palau</td>\n",
       "    </tr>\n",
       "    <tr>\n",
       "      <th>199</th>\n",
       "      <td>Åland</td>\n",
       "    </tr>\n",
       "    <tr>\n",
       "      <th>200</th>\n",
       "      <td>Principality of Monaco</td>\n",
       "    </tr>\n",
       "    <tr>\n",
       "      <th>201</th>\n",
       "      <td>Brunei</td>\n",
       "    </tr>\n",
       "  </tbody>\n",
       "</table>\n",
       "<p>202 rows × 1 columns</p>\n",
       "</div>"
      ],
      "text/plain": [
       "                    Country\n",
       "0              Saudi Arabia\n",
       "1                     India\n",
       "2                    France\n",
       "3                  Maldives\n",
       "4             United States\n",
       "..                      ...\n",
       "197                Guernsey\n",
       "198                   Palau\n",
       "199                   Åland\n",
       "200  Principality of Monaco\n",
       "201                  Brunei\n",
       "\n",
       "[202 rows x 1 columns]"
      ]
     },
     "execution_count": 71,
     "metadata": {},
     "output_type": "execute_result"
    }
   ],
   "source": [
    "# or alternatively, you can loop over the array provided by df.unique() and print them all\n",
    "pd.DataFrame(data=df_click['country'].dropna().unique(), columns=['Country'])"
   ]
  },
  {
   "cell_type": "markdown",
   "id": "9109fd6d",
   "metadata": {},
   "source": [
    "There are 202 countries where we have recorded click events, while there are 211 unique countries in the entire data set, meaning that there are 9 countries where we have not recorded a click event. An obvious follow up question would be to find out which are those 9 countries.\n",
    "\n",
    "It can be answered with a simple set operation: we take the difference between the set of countries in the entire data set and the set of countries in the data set that we filtered here."
   ]
  },
  {
   "cell_type": "code",
   "execution_count": 75,
   "id": "a68f0fd6",
   "metadata": {},
   "outputs": [
    {
     "data": {
      "text/plain": [
       "{'Afghanistan',\n",
       " 'Andorra',\n",
       " 'Faroe Islands',\n",
       " 'Guinea-Bissau',\n",
       " 'Jersey',\n",
       " 'Lesotho',\n",
       " 'Macao',\n",
       " 'Samoa',\n",
       " 'Sint Maarten'}"
      ]
     },
     "execution_count": 75,
     "metadata": {},
     "output_type": "execute_result"
    }
   ],
   "source": [
    "set(df['country'].unique()).difference(set(df_click['country'].unique()))"
   ]
  },
  {
   "cell_type": "markdown",
   "id": "2423c858",
   "metadata": {},
   "source": [
    "### Question 4\n",
    "#### What was the overall click rate (clicks/pageviews)?"
   ]
  },
  {
   "cell_type": "markdown",
   "id": "effeefb3",
   "metadata": {},
   "source": [
    "The click rate is the number of clicks that a page has received (event = 'click') divided by the number of times it has been shown (event = 'pageview'). It is a commonly used metric that measures the success of an advertising campaign.\n",
    "\n",
    "Its calculation requires a few steps.\n",
    "\n",
    "To start with, we can count the number of times each link has been clicked on, and the number of times each link has been viewed. The same procedure applies to both calculations. We first filter for the proper event (click or pageview), then we group the filtered data by the link Id and count the occurrences of that event."
   ]
  },
  {
   "cell_type": "code",
   "execution_count": 93,
   "id": "7603a25f",
   "metadata": {},
   "outputs": [],
   "source": [
    "# filter only 'click' events and group them by the 'linkid' to get their count,\n",
    "# i.e., number of clicks on each link\n",
    "\n",
    "link_clicks = df[df['event'] == 'click'].groupby('linkid')['event'].count().reset_index()\n",
    "\n",
    "# We rename the grouped column for easier manipulation and reset the index of the Dataframe\n",
    "link_clicks.rename(columns={'event':'clicks'}, inplace=True)\n",
    "\n",
    "# do the same for the 'pageview' events\n",
    "pageviews = df[df['event'] == 'pageview'].groupby('linkid')['event'].count().reset_index()\n",
    "pageviews.rename(columns={'event':'pageviews'}, inplace=True)"
   ]
  },
  {
   "cell_type": "code",
   "execution_count": 91,
   "id": "ea8298c8",
   "metadata": {},
   "outputs": [
    {
     "data": {
      "text/html": [
       "<div>\n",
       "<style scoped>\n",
       "    .dataframe tbody tr th:only-of-type {\n",
       "        vertical-align: middle;\n",
       "    }\n",
       "\n",
       "    .dataframe tbody tr th {\n",
       "        vertical-align: top;\n",
       "    }\n",
       "\n",
       "    .dataframe thead th {\n",
       "        text-align: right;\n",
       "    }\n",
       "</style>\n",
       "<table border=\"1\" class=\"dataframe\">\n",
       "  <thead>\n",
       "    <tr style=\"text-align: right;\">\n",
       "      <th></th>\n",
       "      <th>linkid</th>\n",
       "      <th>clicks</th>\n",
       "    </tr>\n",
       "  </thead>\n",
       "  <tbody>\n",
       "    <tr>\n",
       "      <th>0</th>\n",
       "      <td>00126b32-0c35-507b-981c-02c80d2aa8e7</td>\n",
       "      <td>2</td>\n",
       "    </tr>\n",
       "    <tr>\n",
       "      <th>1</th>\n",
       "      <td>004b9724-abca-5481-b6e9-6148a7ca00a5</td>\n",
       "      <td>1</td>\n",
       "    </tr>\n",
       "    <tr>\n",
       "      <th>2</th>\n",
       "      <td>0063a982-41cd-5629-96d0-e1c4dd72ea11</td>\n",
       "      <td>2</td>\n",
       "    </tr>\n",
       "    <tr>\n",
       "      <th>3</th>\n",
       "      <td>006af6a0-1f0d-4b0c-93bf-756af9071c06</td>\n",
       "      <td>8</td>\n",
       "    </tr>\n",
       "    <tr>\n",
       "      <th>4</th>\n",
       "      <td>00759b81-3f04-4a61-b934-f8fb3185f4a0</td>\n",
       "      <td>3</td>\n",
       "    </tr>\n",
       "  </tbody>\n",
       "</table>\n",
       "</div>"
      ],
      "text/plain": [
       "                                 linkid  clicks\n",
       "0  00126b32-0c35-507b-981c-02c80d2aa8e7       2\n",
       "1  004b9724-abca-5481-b6e9-6148a7ca00a5       1\n",
       "2  0063a982-41cd-5629-96d0-e1c4dd72ea11       2\n",
       "3  006af6a0-1f0d-4b0c-93bf-756af9071c06       8\n",
       "4  00759b81-3f04-4a61-b934-f8fb3185f4a0       3"
      ]
     },
     "execution_count": 91,
     "metadata": {},
     "output_type": "execute_result"
    }
   ],
   "source": [
    "link_click.head()"
   ]
  },
  {
   "cell_type": "code",
   "execution_count": 92,
   "id": "b87d718e",
   "metadata": {},
   "outputs": [
    {
     "data": {
      "text/html": [
       "<div>\n",
       "<style scoped>\n",
       "    .dataframe tbody tr th:only-of-type {\n",
       "        vertical-align: middle;\n",
       "    }\n",
       "\n",
       "    .dataframe tbody tr th {\n",
       "        vertical-align: top;\n",
       "    }\n",
       "\n",
       "    .dataframe thead th {\n",
       "        text-align: right;\n",
       "    }\n",
       "</style>\n",
       "<table border=\"1\" class=\"dataframe\">\n",
       "  <thead>\n",
       "    <tr style=\"text-align: right;\">\n",
       "      <th></th>\n",
       "      <th>linkid</th>\n",
       "      <th>pageviews</th>\n",
       "    </tr>\n",
       "  </thead>\n",
       "  <tbody>\n",
       "    <tr>\n",
       "      <th>0</th>\n",
       "      <td>00073307-ae96-5089-a117-4783afb42f8e</td>\n",
       "      <td>2</td>\n",
       "    </tr>\n",
       "    <tr>\n",
       "      <th>1</th>\n",
       "      <td>00126b32-0c35-507b-981c-02c80d2aa8e7</td>\n",
       "      <td>2</td>\n",
       "    </tr>\n",
       "    <tr>\n",
       "      <th>2</th>\n",
       "      <td>0018cfff-50a1-5984-9715-01ef2d11a49a</td>\n",
       "      <td>1</td>\n",
       "    </tr>\n",
       "    <tr>\n",
       "      <th>3</th>\n",
       "      <td>0033934b-5d16-5a06-af58-d087bcdd3680</td>\n",
       "      <td>1</td>\n",
       "    </tr>\n",
       "    <tr>\n",
       "      <th>4</th>\n",
       "      <td>0034d6cf-3bd8-5ffe-aafc-b3959fc48608</td>\n",
       "      <td>1</td>\n",
       "    </tr>\n",
       "  </tbody>\n",
       "</table>\n",
       "</div>"
      ],
      "text/plain": [
       "                                 linkid  pageviews\n",
       "0  00073307-ae96-5089-a117-4783afb42f8e          2\n",
       "1  00126b32-0c35-507b-981c-02c80d2aa8e7          2\n",
       "2  0018cfff-50a1-5984-9715-01ef2d11a49a          1\n",
       "3  0033934b-5d16-5a06-af58-d087bcdd3680          1\n",
       "4  0034d6cf-3bd8-5ffe-aafc-b3959fc48608          1"
      ]
     },
     "execution_count": 92,
     "metadata": {},
     "output_type": "execute_result"
    }
   ],
   "source": [
    "pageviews.head()"
   ]
  },
  {
   "cell_type": "markdown",
   "id": "5b905c3a",
   "metadata": {},
   "source": [
    "To get the answer, we need to somehow join these two Dataframes on the same link Id, and then divide the number of clicks by the number of page views to get the required click rate. It can be achieved with Pandas' merge() method. We specify a 'left' and a 'right' Dataframe, a column to merge on, and how the merge should go (we specify 'inner' which takes the intersection of the two data sets)."
   ]
  },
  {
   "cell_type": "code",
   "execution_count": 102,
   "id": "aa4f2a74",
   "metadata": {},
   "outputs": [],
   "source": [
    "# pd.merge() does a database-style join of the two dataframes\n",
    "df_merged = pd.merge(link_click, pageviews, on='linkid', how='inner')\n",
    "\n",
    "# define a new column of the 'click_rate'\n",
    "df_merged['click-rate'] = df_merged['clicks'] / df_merged['pageviews']"
   ]
  },
  {
   "cell_type": "code",
   "execution_count": 108,
   "id": "2646fc08",
   "metadata": {},
   "outputs": [
    {
     "data": {
      "text/html": [
       "<div>\n",
       "<style scoped>\n",
       "    .dataframe tbody tr th:only-of-type {\n",
       "        vertical-align: middle;\n",
       "    }\n",
       "\n",
       "    .dataframe tbody tr th {\n",
       "        vertical-align: top;\n",
       "    }\n",
       "\n",
       "    .dataframe thead th {\n",
       "        text-align: right;\n",
       "    }\n",
       "</style>\n",
       "<table border=\"1\" class=\"dataframe\">\n",
       "  <thead>\n",
       "    <tr style=\"text-align: right;\">\n",
       "      <th></th>\n",
       "      <th>linkid</th>\n",
       "      <th>clicks</th>\n",
       "      <th>pageviews</th>\n",
       "      <th>click-rate</th>\n",
       "    </tr>\n",
       "  </thead>\n",
       "  <tbody>\n",
       "    <tr>\n",
       "      <th>0</th>\n",
       "      <td>00126b32-0c35-507b-981c-02c80d2aa8e7</td>\n",
       "      <td>2</td>\n",
       "      <td>2</td>\n",
       "      <td>1.000000</td>\n",
       "    </tr>\n",
       "    <tr>\n",
       "      <th>1</th>\n",
       "      <td>004b9724-abca-5481-b6e9-6148a7ca00a5</td>\n",
       "      <td>1</td>\n",
       "      <td>1</td>\n",
       "      <td>1.000000</td>\n",
       "    </tr>\n",
       "    <tr>\n",
       "      <th>2</th>\n",
       "      <td>0063a982-41cd-5629-96d0-e1c4dd72ea11</td>\n",
       "      <td>2</td>\n",
       "      <td>3</td>\n",
       "      <td>0.666667</td>\n",
       "    </tr>\n",
       "    <tr>\n",
       "      <th>3</th>\n",
       "      <td>006af6a0-1f0d-4b0c-93bf-756af9071c06</td>\n",
       "      <td>8</td>\n",
       "      <td>36</td>\n",
       "      <td>0.222222</td>\n",
       "    </tr>\n",
       "    <tr>\n",
       "      <th>4</th>\n",
       "      <td>00759b81-3f04-4a61-b934-f8fb3185f4a0</td>\n",
       "      <td>3</td>\n",
       "      <td>4</td>\n",
       "      <td>0.750000</td>\n",
       "    </tr>\n",
       "    <tr>\n",
       "      <th>...</th>\n",
       "      <td>...</td>\n",
       "      <td>...</td>\n",
       "      <td>...</td>\n",
       "      <td>...</td>\n",
       "    </tr>\n",
       "    <tr>\n",
       "      <th>2248</th>\n",
       "      <td>ffd8d5a7-91bc-48e1-a692-c26fca8a8ead</td>\n",
       "      <td>29</td>\n",
       "      <td>84</td>\n",
       "      <td>0.345238</td>\n",
       "    </tr>\n",
       "    <tr>\n",
       "      <th>2249</th>\n",
       "      <td>fff38ca0-8043-50cd-a5f1-f65ebb7105c5</td>\n",
       "      <td>1</td>\n",
       "      <td>1</td>\n",
       "      <td>1.000000</td>\n",
       "    </tr>\n",
       "    <tr>\n",
       "      <th>2250</th>\n",
       "      <td>fff84c0e-90a1-59d8-9997-adc909d50e16</td>\n",
       "      <td>1</td>\n",
       "      <td>1</td>\n",
       "      <td>1.000000</td>\n",
       "    </tr>\n",
       "    <tr>\n",
       "      <th>2251</th>\n",
       "      <td>fffc17a7-f935-5d3e-bd3e-d761fd80d479</td>\n",
       "      <td>1</td>\n",
       "      <td>2</td>\n",
       "      <td>0.500000</td>\n",
       "    </tr>\n",
       "    <tr>\n",
       "      <th>2252</th>\n",
       "      <td>fffd0045-29de-522b-b5d8-35786363bf07</td>\n",
       "      <td>1</td>\n",
       "      <td>2</td>\n",
       "      <td>0.500000</td>\n",
       "    </tr>\n",
       "  </tbody>\n",
       "</table>\n",
       "<p>2253 rows × 4 columns</p>\n",
       "</div>"
      ],
      "text/plain": [
       "                                    linkid  clicks  pageviews  click-rate\n",
       "0     00126b32-0c35-507b-981c-02c80d2aa8e7       2          2    1.000000\n",
       "1     004b9724-abca-5481-b6e9-6148a7ca00a5       1          1    1.000000\n",
       "2     0063a982-41cd-5629-96d0-e1c4dd72ea11       2          3    0.666667\n",
       "3     006af6a0-1f0d-4b0c-93bf-756af9071c06       8         36    0.222222\n",
       "4     00759b81-3f04-4a61-b934-f8fb3185f4a0       3          4    0.750000\n",
       "...                                    ...     ...        ...         ...\n",
       "2248  ffd8d5a7-91bc-48e1-a692-c26fca8a8ead      29         84    0.345238\n",
       "2249  fff38ca0-8043-50cd-a5f1-f65ebb7105c5       1          1    1.000000\n",
       "2250  fff84c0e-90a1-59d8-9997-adc909d50e16       1          1    1.000000\n",
       "2251  fffc17a7-f935-5d3e-bd3e-d761fd80d479       1          2    0.500000\n",
       "2252  fffd0045-29de-522b-b5d8-35786363bf07       1          2    0.500000\n",
       "\n",
       "[2253 rows x 4 columns]"
      ]
     },
     "execution_count": 108,
     "metadata": {},
     "output_type": "execute_result"
    }
   ],
   "source": [
    "df_merged"
   ]
  },
  {
   "cell_type": "markdown",
   "id": "691e8a0a",
   "metadata": {},
   "source": [
    "### Question 5\n",
    "#### How does the clickrate distribute across different links?"
   ]
  },
  {
   "cell_type": "markdown",
   "id": "a5579e4b",
   "metadata": {},
   "source": [
    "To get a sense of the distribution of the click rate across different links, we can use that same method. The cell below does that. Observe the output. We have the count (number of links), the mean, standard deviation, min, max, as well as the value of the click rate at the 25, 50, and 75th percentile."
   ]
  },
  {
   "cell_type": "code",
   "execution_count": 109,
   "id": "50faf124",
   "metadata": {},
   "outputs": [
    {
     "data": {
      "text/plain": [
       "count    2253.000000\n",
       "mean        0.809920\n",
       "std         1.958030\n",
       "min         0.090909\n",
       "25%         0.500000\n",
       "50%         1.000000\n",
       "75%         1.000000\n",
       "max        92.300000\n",
       "Name: click-rate, dtype: float64"
      ]
     },
     "execution_count": 109,
     "metadata": {},
     "output_type": "execute_result"
    }
   ],
   "source": [
    "df_merged['click-rate'].describe()"
   ]
  },
  {
   "cell_type": "markdown",
   "id": "a9e537c7",
   "metadata": {},
   "source": [
    "Tabular data can only give us so much, and a picture says a thousand words, so whenever you can, use graphics to present your findings. In our case, we can do that, and in multiple ways. For instance, we can plot the distribution of the click rate as a histogram."
   ]
  },
  {
   "cell_type": "markdown",
   "id": "50da008e",
   "metadata": {},
   "source": [
    "Using the powerful plot() method we plot a histogram with 100 bins. Notice how we provide parameters for the figure size and the label of the X-axis. It is always a good idea to have these as they provide a lot of context at first glance, and make the interpretation of the graphic a lot easier and quicker. Try to ignore or play around with these parameters and observe the output."
   ]
  },
  {
   "cell_type": "code",
   "execution_count": 125,
   "id": "6fd6a63f",
   "metadata": {},
   "outputs": [
    {
     "data": {
      "image/png": "[encoded data removed]",
      "text/plain": [
       "<Figure size 500x500 with 1 Axes>"
      ]
     },
     "metadata": {},
     "output_type": "display_data"
    }
   ],
   "source": [
    "plt.figure(figsize=(5, 5))\n",
    "sns.histplot(data = df_merged, x='click-rate', bins=100)\n",
    "plt.xlabel('Click Rate')\n",
    "plt.show()"
   ]
  },
  {
   "cell_type": "markdown",
   "id": "f01b43bf",
   "metadata": {},
   "source": [
    "The histogram shows that the data is highly skewed to left, i.e., many of its values are very close to zero. In such cases, a common workaround is to plot the histogram of the logarithm of the data. Let us try that, we can use Numpy's log2() method for it!"
   ]
  },
  {
   "cell_type": "code",
   "execution_count": 127,
   "id": "2c11ffec",
   "metadata": {},
   "outputs": [
    {
     "data": {
      "image/png": "[encoded data removed]",
      "text/plain": [
       "<Figure size 640x480 with 1 Axes>"
      ]
     },
     "metadata": {},
     "output_type": "display_data"
    }
   ],
   "source": [
    "# because the data is highly skewed, it makes more sense to plot the log of it\n",
    "df_merged['click-rate-log'] = np.log2(df_merged['click-rate'])\n",
    "\n",
    "sns.histplot(data = df_merged, x='click-rate-log', bins=100)\n",
    "plt.xlabel('Click Rate')\n",
    "plt.show()"
   ]
  },
  {
   "cell_type": "markdown",
   "id": "9f654ca2",
   "metadata": {},
   "source": [
    "We observe an enormous spike at the 0 meaning that the actual click rate was 1, implying that there are many links that have been viewed and clicked on exactly once. There are also, many links that have been viewed many times but clicked on fewer (values less than zero)."
   ]
  },
  {
   "cell_type": "code",
   "execution_count": 135,
   "id": "b812ecaa",
   "metadata": {},
   "outputs": [
    {
     "data": {
      "image/png": "[encoded data removed]",
      "text/plain": [
       "<Figure size 500x600 with 1 Axes>"
      ]
     },
     "metadata": {},
     "output_type": "display_data"
    }
   ],
   "source": [
    "plt.figure(figsize=(5,6))\n",
    "sns.boxplot(data = df_merged, y='click-rate-log')\n",
    "plt.show()"
   ]
  },
  {
   "cell_type": "markdown",
   "id": "ac25feac",
   "metadata": {},
   "source": [
    "We observe two (and one particular) high outliers, and many, many below the Q1 (i.e., click rate very close to zero). Our guess is that there are at least two links, that have been clicked on multiple times in the same page view."
   ]
  },
  {
   "cell_type": "markdown",
   "id": "835b3d3a",
   "metadata": {},
   "source": [
    "### Question 6\n",
    "#### Is there any correlation between clicks and previews on a link? Is it significant? How large is the effect? Make sure to at least test for potential linear as well as categorical (think binary) relationships between both variables."
   ]
  },
  {
   "cell_type": "markdown",
   "id": "25ad96e0",
   "metadata": {},
   "source": [
    "Pearson's correlation coefficient is a measure of linear correlation between two data sets. It takes its value in the range of [-1, 1] and the further it is from zero, the more significant the correlation is. If the value is negative, it means that the values in one set of the data decrease as the values in the other set increase. A positive correlation coefficient implies that both sets of values move in the same direction, either they both increase or decrease.\n",
    "\n",
    "Pearson's coefficient is implemented in both Pandas and Scipy, and here we are actually going to use both libraries, just to explore their APIs and to compare results! (should be the same).\n",
    "\n",
    "First, let us filter the data to contain only the click and the preview events. We can describe it to get a sense of the contents."
   ]
  },
  {
   "cell_type": "code",
   "execution_count": 143,
   "id": "25cec63d",
   "metadata": {},
   "outputs": [
    {
     "data": {
      "text/html": [
       "<div>\n",
       "<style scoped>\n",
       "    .dataframe tbody tr th:only-of-type {\n",
       "        vertical-align: middle;\n",
       "    }\n",
       "\n",
       "    .dataframe tbody tr th {\n",
       "        vertical-align: top;\n",
       "    }\n",
       "\n",
       "    .dataframe thead th {\n",
       "        text-align: right;\n",
       "    }\n",
       "</style>\n",
       "<table border=\"1\" class=\"dataframe\">\n",
       "  <thead>\n",
       "    <tr style=\"text-align: right;\">\n",
       "      <th></th>\n",
       "      <th>event</th>\n",
       "      <th>date</th>\n",
       "      <th>country</th>\n",
       "      <th>city</th>\n",
       "      <th>artist</th>\n",
       "      <th>album</th>\n",
       "      <th>track</th>\n",
       "      <th>isrc</th>\n",
       "      <th>linkid</th>\n",
       "    </tr>\n",
       "  </thead>\n",
       "  <tbody>\n",
       "    <tr>\n",
       "      <th>count</th>\n",
       "      <td>84263</td>\n",
       "      <td>84263</td>\n",
       "      <td>84261</td>\n",
       "      <td>84261</td>\n",
       "      <td>84252</td>\n",
       "      <td>84262</td>\n",
       "      <td>84262</td>\n",
       "      <td>82036</td>\n",
       "      <td>84263</td>\n",
       "    </tr>\n",
       "    <tr>\n",
       "      <th>unique</th>\n",
       "      <td>2</td>\n",
       "      <td>7</td>\n",
       "      <td>206</td>\n",
       "      <td>8137</td>\n",
       "      <td>1549</td>\n",
       "      <td>2003</td>\n",
       "      <td>2155</td>\n",
       "      <td>628</td>\n",
       "      <td>2286</td>\n",
       "    </tr>\n",
       "    <tr>\n",
       "      <th>top</th>\n",
       "      <td>click</td>\n",
       "      <td>2021-08-19</td>\n",
       "      <td>Saudi Arabia</td>\n",
       "      <td>Jeddah</td>\n",
       "      <td>Tesher</td>\n",
       "      <td>Jalebi Baby</td>\n",
       "      <td>Jalebi Baby</td>\n",
       "      <td>QZNWQ2070741</td>\n",
       "      <td>2d896d31-97b6-4869-967b-1c5fb9cd4bb8</td>\n",
       "    </tr>\n",
       "    <tr>\n",
       "      <th>freq</th>\n",
       "      <td>55732</td>\n",
       "      <td>12995</td>\n",
       "      <td>18461</td>\n",
       "      <td>8893</td>\n",
       "      <td>15666</td>\n",
       "      <td>15666</td>\n",
       "      <td>15666</td>\n",
       "      <td>15666</td>\n",
       "      <td>15666</td>\n",
       "    </tr>\n",
       "  </tbody>\n",
       "</table>\n",
       "</div>"
      ],
      "text/plain": [
       "        event        date       country    city  artist        album  \\\n",
       "count   84263       84263         84261   84261   84252        84262   \n",
       "unique      2           7           206    8137    1549         2003   \n",
       "top     click  2021-08-19  Saudi Arabia  Jeddah  Tesher  Jalebi Baby   \n",
       "freq    55732       12995         18461    8893   15666        15666   \n",
       "\n",
       "              track          isrc                                linkid  \n",
       "count         84262         82036                                 84263  \n",
       "unique         2155           628                                  2286  \n",
       "top     Jalebi Baby  QZNWQ2070741  2d896d31-97b6-4869-967b-1c5fb9cd4bb8  \n",
       "freq          15666         15666                                 15666  "
      ]
     },
     "execution_count": 143,
     "metadata": {},
     "output_type": "execute_result"
    }
   ],
   "source": [
    "# filter only events that are relevant to the question\n",
    "df_filtered = df [df['event'].isin(['click', 'preview'])]\n",
    "df_filtered.describe()"
   ]
  },
  {
   "cell_type": "code",
   "execution_count": 144,
   "id": "40d026d1",
   "metadata": {},
   "outputs": [],
   "source": [
    "# filter only 'click' events and group them by the 'linkid' to get their count,\n",
    "# i.e., number of clicks on each link\n",
    "\n",
    "link_clicks = df[df['event'] == 'click'].groupby('linkid')['event'].count().reset_index()\n",
    "\n",
    "# We rename the grouped column for easier manipulation and reset the index of the Dataframe\n",
    "link_clicks.rename(columns={'event':'clicks'}, inplace=True)\n",
    "\n",
    "# do the same for the 'pageview' events\n",
    "pageviews = df[df['event'] == 'preview'].groupby('linkid')['event'].count().reset_index()\n",
    "pageviews.rename(columns={'event':'previews'}, inplace=True)"
   ]
  },
  {
   "cell_type": "code",
   "execution_count": 145,
   "id": "1c745e4a",
   "metadata": {},
   "outputs": [
    {
     "data": {
      "text/html": [
       "<div>\n",
       "<style scoped>\n",
       "    .dataframe tbody tr th:only-of-type {\n",
       "        vertical-align: middle;\n",
       "    }\n",
       "\n",
       "    .dataframe tbody tr th {\n",
       "        vertical-align: top;\n",
       "    }\n",
       "\n",
       "    .dataframe thead th {\n",
       "        text-align: right;\n",
       "    }\n",
       "</style>\n",
       "<table border=\"1\" class=\"dataframe\">\n",
       "  <thead>\n",
       "    <tr style=\"text-align: right;\">\n",
       "      <th></th>\n",
       "      <th>event</th>\n",
       "      <th>date</th>\n",
       "      <th>country</th>\n",
       "      <th>city</th>\n",
       "      <th>artist</th>\n",
       "      <th>album</th>\n",
       "      <th>track</th>\n",
       "      <th>isrc</th>\n",
       "      <th>linkid</th>\n",
       "      <th>clicks</th>\n",
       "      <th>previews</th>\n",
       "    </tr>\n",
       "  </thead>\n",
       "  <tbody>\n",
       "    <tr>\n",
       "      <th>0</th>\n",
       "      <td>click</td>\n",
       "      <td>2021-08-21</td>\n",
       "      <td>Saudi Arabia</td>\n",
       "      <td>Jeddah</td>\n",
       "      <td>Tesher</td>\n",
       "      <td>Jalebi Baby</td>\n",
       "      <td>Jalebi Baby</td>\n",
       "      <td>QZNWQ2070741</td>\n",
       "      <td>2d896d31-97b6-4869-967b-1c5fb9cd4bb8</td>\n",
       "      <td>9692</td>\n",
       "      <td>5974</td>\n",
       "    </tr>\n",
       "    <tr>\n",
       "      <th>1</th>\n",
       "      <td>click</td>\n",
       "      <td>2021-08-21</td>\n",
       "      <td>Saudi Arabia</td>\n",
       "      <td>Jeddah</td>\n",
       "      <td>Tesher</td>\n",
       "      <td>Jalebi Baby</td>\n",
       "      <td>Jalebi Baby</td>\n",
       "      <td>QZNWQ2070741</td>\n",
       "      <td>2d896d31-97b6-4869-967b-1c5fb9cd4bb8</td>\n",
       "      <td>9692</td>\n",
       "      <td>5974</td>\n",
       "    </tr>\n",
       "    <tr>\n",
       "      <th>2</th>\n",
       "      <td>click</td>\n",
       "      <td>2021-08-21</td>\n",
       "      <td>Maldives</td>\n",
       "      <td>Malé</td>\n",
       "      <td>Tesher</td>\n",
       "      <td>Jalebi Baby</td>\n",
       "      <td>Jalebi Baby</td>\n",
       "      <td>QZNWQ2070741</td>\n",
       "      <td>2d896d31-97b6-4869-967b-1c5fb9cd4bb8</td>\n",
       "      <td>9692</td>\n",
       "      <td>5974</td>\n",
       "    </tr>\n",
       "    <tr>\n",
       "      <th>3</th>\n",
       "      <td>click</td>\n",
       "      <td>2021-08-20</td>\n",
       "      <td>Saudi Arabia</td>\n",
       "      <td>Jeddah</td>\n",
       "      <td>Tesher</td>\n",
       "      <td>Jalebi Baby</td>\n",
       "      <td>Jalebi Baby</td>\n",
       "      <td>QZNWQ2070741</td>\n",
       "      <td>2d896d31-97b6-4869-967b-1c5fb9cd4bb8</td>\n",
       "      <td>9692</td>\n",
       "      <td>5974</td>\n",
       "    </tr>\n",
       "    <tr>\n",
       "      <th>4</th>\n",
       "      <td>click</td>\n",
       "      <td>2021-08-20</td>\n",
       "      <td>Romania</td>\n",
       "      <td>Topoloveni</td>\n",
       "      <td>Tesher</td>\n",
       "      <td>Jalebi Baby</td>\n",
       "      <td>Jalebi Baby</td>\n",
       "      <td>QZNWQ2070741</td>\n",
       "      <td>2d896d31-97b6-4869-967b-1c5fb9cd4bb8</td>\n",
       "      <td>9692</td>\n",
       "      <td>5974</td>\n",
       "    </tr>\n",
       "    <tr>\n",
       "      <th>...</th>\n",
       "      <td>...</td>\n",
       "      <td>...</td>\n",
       "      <td>...</td>\n",
       "      <td>...</td>\n",
       "      <td>...</td>\n",
       "      <td>...</td>\n",
       "      <td>...</td>\n",
       "      <td>...</td>\n",
       "      <td>...</td>\n",
       "      <td>...</td>\n",
       "      <td>...</td>\n",
       "    </tr>\n",
       "    <tr>\n",
       "      <th>79433</th>\n",
       "      <td>click</td>\n",
       "      <td>2021-08-20</td>\n",
       "      <td>United States</td>\n",
       "      <td>Hamilton</td>\n",
       "      <td>Boosie Badazz, DaBaby</td>\n",
       "      <td>Period (feat. DaBaby)</td>\n",
       "      <td>Period (feat. DaBaby)</td>\n",
       "      <td>USLUU2000092</td>\n",
       "      <td>1ab371a7-3dc5-4b62-8181-b919de7385ac</td>\n",
       "      <td>1</td>\n",
       "      <td>2</td>\n",
       "    </tr>\n",
       "    <tr>\n",
       "      <th>79434</th>\n",
       "      <td>preview</td>\n",
       "      <td>2021-08-22</td>\n",
       "      <td>United States</td>\n",
       "      <td>Port Saint Lucie</td>\n",
       "      <td>Boosie Badazz, DaBaby</td>\n",
       "      <td>Period (feat. DaBaby)</td>\n",
       "      <td>Period (feat. DaBaby)</td>\n",
       "      <td>USLUU2000092</td>\n",
       "      <td>1ab371a7-3dc5-4b62-8181-b919de7385ac</td>\n",
       "      <td>1</td>\n",
       "      <td>2</td>\n",
       "    </tr>\n",
       "    <tr>\n",
       "      <th>79435</th>\n",
       "      <td>preview</td>\n",
       "      <td>2021-08-20</td>\n",
       "      <td>United States</td>\n",
       "      <td>Hamilton</td>\n",
       "      <td>Boosie Badazz, DaBaby</td>\n",
       "      <td>Period (feat. DaBaby)</td>\n",
       "      <td>Period (feat. DaBaby)</td>\n",
       "      <td>USLUU2000092</td>\n",
       "      <td>1ab371a7-3dc5-4b62-8181-b919de7385ac</td>\n",
       "      <td>1</td>\n",
       "      <td>2</td>\n",
       "    </tr>\n",
       "    <tr>\n",
       "      <th>79436</th>\n",
       "      <td>click</td>\n",
       "      <td>2021-08-25</td>\n",
       "      <td>Pakistan</td>\n",
       "      <td>Unknown</td>\n",
       "      <td>Melanie Martinez</td>\n",
       "      <td>Cry Baby (Deluxe Edition)</td>\n",
       "      <td>Play Date</td>\n",
       "      <td>USAT21502462</td>\n",
       "      <td>028ab79b-048d-4e96-a930-f08356783049</td>\n",
       "      <td>1</td>\n",
       "      <td>1</td>\n",
       "    </tr>\n",
       "    <tr>\n",
       "      <th>79437</th>\n",
       "      <td>preview</td>\n",
       "      <td>2021-08-25</td>\n",
       "      <td>Pakistan</td>\n",
       "      <td>Unknown</td>\n",
       "      <td>Melanie Martinez</td>\n",
       "      <td>Cry Baby (Deluxe Edition)</td>\n",
       "      <td>Play Date</td>\n",
       "      <td>USAT21502462</td>\n",
       "      <td>028ab79b-048d-4e96-a930-f08356783049</td>\n",
       "      <td>1</td>\n",
       "      <td>1</td>\n",
       "    </tr>\n",
       "  </tbody>\n",
       "</table>\n",
       "<p>79438 rows × 11 columns</p>\n",
       "</div>"
      ],
      "text/plain": [
       "         event        date        country              city  \\\n",
       "0        click  2021-08-21   Saudi Arabia            Jeddah   \n",
       "1        click  2021-08-21   Saudi Arabia            Jeddah   \n",
       "2        click  2021-08-21       Maldives              Malé   \n",
       "3        click  2021-08-20   Saudi Arabia            Jeddah   \n",
       "4        click  2021-08-20        Romania        Topoloveni   \n",
       "...        ...         ...            ...               ...   \n",
       "79433    click  2021-08-20  United States          Hamilton   \n",
       "79434  preview  2021-08-22  United States  Port Saint Lucie   \n",
       "79435  preview  2021-08-20  United States          Hamilton   \n",
       "79436    click  2021-08-25       Pakistan           Unknown   \n",
       "79437  preview  2021-08-25       Pakistan           Unknown   \n",
       "\n",
       "                      artist                      album  \\\n",
       "0                     Tesher                Jalebi Baby   \n",
       "1                     Tesher                Jalebi Baby   \n",
       "2                     Tesher                Jalebi Baby   \n",
       "3                     Tesher                Jalebi Baby   \n",
       "4                     Tesher                Jalebi Baby   \n",
       "...                      ...                        ...   \n",
       "79433  Boosie Badazz, DaBaby      Period (feat. DaBaby)   \n",
       "79434  Boosie Badazz, DaBaby      Period (feat. DaBaby)   \n",
       "79435  Boosie Badazz, DaBaby      Period (feat. DaBaby)   \n",
       "79436       Melanie Martinez  Cry Baby (Deluxe Edition)   \n",
       "79437       Melanie Martinez  Cry Baby (Deluxe Edition)   \n",
       "\n",
       "                       track          isrc  \\\n",
       "0                Jalebi Baby  QZNWQ2070741   \n",
       "1                Jalebi Baby  QZNWQ2070741   \n",
       "2                Jalebi Baby  QZNWQ2070741   \n",
       "3                Jalebi Baby  QZNWQ2070741   \n",
       "4                Jalebi Baby  QZNWQ2070741   \n",
       "...                      ...           ...   \n",
       "79433  Period (feat. DaBaby)  USLUU2000092   \n",
       "79434  Period (feat. DaBaby)  USLUU2000092   \n",
       "79435  Period (feat. DaBaby)  USLUU2000092   \n",
       "79436              Play Date  USAT21502462   \n",
       "79437              Play Date  USAT21502462   \n",
       "\n",
       "                                     linkid  clicks  previews  \n",
       "0      2d896d31-97b6-4869-967b-1c5fb9cd4bb8    9692      5974  \n",
       "1      2d896d31-97b6-4869-967b-1c5fb9cd4bb8    9692      5974  \n",
       "2      2d896d31-97b6-4869-967b-1c5fb9cd4bb8    9692      5974  \n",
       "3      2d896d31-97b6-4869-967b-1c5fb9cd4bb8    9692      5974  \n",
       "4      2d896d31-97b6-4869-967b-1c5fb9cd4bb8    9692      5974  \n",
       "...                                     ...     ...       ...  \n",
       "79433  1ab371a7-3dc5-4b62-8181-b919de7385ac       1         2  \n",
       "79434  1ab371a7-3dc5-4b62-8181-b919de7385ac       1         2  \n",
       "79435  1ab371a7-3dc5-4b62-8181-b919de7385ac       1         2  \n",
       "79436  028ab79b-048d-4e96-a930-f08356783049       1         1  \n",
       "79437  028ab79b-048d-4e96-a930-f08356783049       1         1  \n",
       "\n",
       "[79438 rows x 11 columns]"
      ]
     },
     "execution_count": 145,
     "metadata": {},
     "output_type": "execute_result"
    }
   ],
   "source": [
    "# perform two database-style joins to append the \n",
    "# number of link clicks and previews to each row\n",
    "\n",
    "df_filtered = pd.merge(df_filtered, link_clicks, on='linkid', how='inner')\n",
    "df_filtered = pd.merge(df_filtered, pageviews, on='linkid', how='inner')\n",
    "df_filtered"
   ]
  },
  {
   "cell_type": "markdown",
   "id": "077a45af",
   "metadata": {},
   "source": [
    "Finally, we calculate the correlation coefficient with both pandas and scipy."
   ]
  },
  {
   "cell_type": "code",
   "execution_count": 146,
   "id": "3c7ce2b5",
   "metadata": {},
   "outputs": [
    {
     "data": {
      "text/html": [
       "<div>\n",
       "<style scoped>\n",
       "    .dataframe tbody tr th:only-of-type {\n",
       "        vertical-align: middle;\n",
       "    }\n",
       "\n",
       "    .dataframe tbody tr th {\n",
       "        vertical-align: top;\n",
       "    }\n",
       "\n",
       "    .dataframe thead th {\n",
       "        text-align: right;\n",
       "    }\n",
       "</style>\n",
       "<table border=\"1\" class=\"dataframe\">\n",
       "  <thead>\n",
       "    <tr style=\"text-align: right;\">\n",
       "      <th></th>\n",
       "      <th>clicks</th>\n",
       "      <th>previews</th>\n",
       "    </tr>\n",
       "  </thead>\n",
       "  <tbody>\n",
       "    <tr>\n",
       "      <th>clicks</th>\n",
       "      <td>1.000000</td>\n",
       "      <td>0.998713</td>\n",
       "    </tr>\n",
       "    <tr>\n",
       "      <th>previews</th>\n",
       "      <td>0.998713</td>\n",
       "      <td>1.000000</td>\n",
       "    </tr>\n",
       "  </tbody>\n",
       "</table>\n",
       "</div>"
      ],
      "text/plain": [
       "            clicks  previews\n",
       "clicks    1.000000  0.998713\n",
       "previews  0.998713  1.000000"
      ]
     },
     "execution_count": 146,
     "metadata": {},
     "output_type": "execute_result"
    }
   ],
   "source": [
    "df_filtered.corr()"
   ]
  },
  {
   "cell_type": "code",
   "execution_count": 149,
   "id": "5dc62401",
   "metadata": {},
   "outputs": [
    {
     "data": {
      "text/plain": [
       "PearsonRResult(statistic=0.9987125072008429, pvalue=0.0)"
      ]
     },
     "execution_count": 149,
     "metadata": {},
     "output_type": "execute_result"
    }
   ],
   "source": [
    "stats.pearsonr(x=df_filtered['clicks'], y=df_filtered['previews'])"
   ]
  },
  {
   "cell_type": "markdown",
   "id": "4f0df832",
   "metadata": {},
   "source": [
    "Almost perfectly positive correlation between the number of clicks and previews which seems logical; given that the one is actually dependent on the other (can't have clicks without previews and vice versa).\n",
    "\n",
    "Using pd.factorize() we can quantify the relationship between categorical variables in similar manner as with numerical variables."
   ]
  },
  {
   "cell_type": "code",
   "execution_count": 150,
   "id": "4247e0ba",
   "metadata": {},
   "outputs": [
    {
     "data": {
      "text/plain": [
       "Index(['event', 'date', 'country', 'city', 'artist', 'album', 'track', 'isrc',\n",
       "       'linkid', 'clicks', 'previews'],\n",
       "      dtype='object')"
      ]
     },
     "execution_count": 150,
     "metadata": {},
     "output_type": "execute_result"
    }
   ],
   "source": [
    "df_filtered.columns"
   ]
  },
  {
   "cell_type": "code",
   "execution_count": 169,
   "id": "2120f573",
   "metadata": {},
   "outputs": [
    {
     "data": {
      "text/html": [
       "<div>\n",
       "<style scoped>\n",
       "    .dataframe tbody tr th:only-of-type {\n",
       "        vertical-align: middle;\n",
       "    }\n",
       "\n",
       "    .dataframe tbody tr th {\n",
       "        vertical-align: top;\n",
       "    }\n",
       "\n",
       "    .dataframe thead th {\n",
       "        text-align: right;\n",
       "    }\n",
       "</style>\n",
       "<table border=\"1\" class=\"dataframe\">\n",
       "  <thead>\n",
       "    <tr style=\"text-align: right;\">\n",
       "      <th></th>\n",
       "      <th>country</th>\n",
       "      <th>city</th>\n",
       "      <th>artist</th>\n",
       "      <th>album</th>\n",
       "      <th>track</th>\n",
       "    </tr>\n",
       "  </thead>\n",
       "  <tbody>\n",
       "    <tr>\n",
       "      <th>country</th>\n",
       "      <td>1.000000</td>\n",
       "      <td>0.315450</td>\n",
       "      <td>0.080973</td>\n",
       "      <td>0.088781</td>\n",
       "      <td>0.089710</td>\n",
       "    </tr>\n",
       "    <tr>\n",
       "      <th>city</th>\n",
       "      <td>0.315450</td>\n",
       "      <td>1.000000</td>\n",
       "      <td>0.232711</td>\n",
       "      <td>0.239184</td>\n",
       "      <td>0.243887</td>\n",
       "    </tr>\n",
       "    <tr>\n",
       "      <th>artist</th>\n",
       "      <td>0.080973</td>\n",
       "      <td>0.232711</td>\n",
       "      <td>1.000000</td>\n",
       "      <td>0.946371</td>\n",
       "      <td>0.949177</td>\n",
       "    </tr>\n",
       "    <tr>\n",
       "      <th>album</th>\n",
       "      <td>0.088781</td>\n",
       "      <td>0.239184</td>\n",
       "      <td>0.946371</td>\n",
       "      <td>1.000000</td>\n",
       "      <td>0.976958</td>\n",
       "    </tr>\n",
       "    <tr>\n",
       "      <th>track</th>\n",
       "      <td>0.089710</td>\n",
       "      <td>0.243887</td>\n",
       "      <td>0.949177</td>\n",
       "      <td>0.976958</td>\n",
       "      <td>1.000000</td>\n",
       "    </tr>\n",
       "  </tbody>\n",
       "</table>\n",
       "</div>"
      ],
      "text/plain": [
       "          country      city    artist     album     track\n",
       "country  1.000000  0.315450  0.080973  0.088781  0.089710\n",
       "city     0.315450  1.000000  0.232711  0.239184  0.243887\n",
       "artist   0.080973  0.232711  1.000000  0.946371  0.949177\n",
       "album    0.088781  0.239184  0.946371  1.000000  0.976958\n",
       "track    0.089710  0.243887  0.949177  0.976958  1.000000"
      ]
     },
     "execution_count": 169,
     "metadata": {},
     "output_type": "execute_result"
    }
   ],
   "source": [
    "categorical_columns = [\n",
    "    \"country\",\n",
    "    \"city\",\n",
    "    \"artist\",\n",
    "    \"album\",\n",
    "    \"track\"\n",
    "]\n",
    "factorized_df = df_filtered[categorical_columns] \\\n",
    "                     .apply(lambda x: pd.factorize(x)[0]) \\\n",
    "                     .corr()\n",
    "factorized_df"
   ]
  },
  {
   "cell_type": "markdown",
   "id": "edb377b6",
   "metadata": {},
   "source": [
    "We observe a high positive correlation between album, artist, and track and almost no correlation between other variables. This is again expected, since those variables are naturally dependent, i.e., each track belongs to an album and is performed by an artist."
   ]
  }
 ],
 "metadata": {
  "kernelspec": {
   "display_name": "Python 3 (ipykernel)",
   "language": "python",
   "name": "python3"
  },
  "language_info": {
   "codemirror_mode": {
    "name": "ipython",
    "version": 3
   },
   "file_extension": ".py",
   "mimetype": "text/x-python",
   "name": "python",
   "nbconvert_exporter": "python",
   "pygments_lexer": "ipython3",
   "version": "3.9.13"
  }
 },
 "nbformat": 4,
 "nbformat_minor": 5
}
